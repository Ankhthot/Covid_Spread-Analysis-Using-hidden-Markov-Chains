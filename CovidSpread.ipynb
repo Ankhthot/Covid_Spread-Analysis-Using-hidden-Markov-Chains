{
 "cells": [
  {
   "cell_type": "code",
   "execution_count": 4,
   "id": "fd342c3f-f167-4cc3-883e-6ff287b607c8",
   "metadata": {
    "tags": []
   },
   "outputs": [],
   "source": [
    "import pandas as pd\n",
    "import numpy as np\n"
   ]
  },
  {
   "cell_type": "code",
   "execution_count": 5,
   "id": "c4f3bbaf-bca4-4b0e-b6dc-8a85d6497e9b",
   "metadata": {
    "tags": []
   },
   "outputs": [
    {
     "name": "stdout",
     "output_type": "stream",
     "text": [
      "Collecting hmmlearn\n",
      "  Obtaining dependency information for hmmlearn from https://files.pythonhosted.org/packages/6b/62/0c7b618eac6f27220baecdfe476259e005c690bf825d02a3cb8e5470bf2c/hmmlearn-0.3.2-cp311-cp311-win_amd64.whl.metadata\n",
      "  Downloading hmmlearn-0.3.2-cp311-cp311-win_amd64.whl.metadata (3.0 kB)\n",
      "Requirement already satisfied: numpy>=1.10 in d:\\coding\\conda\\lib\\site-packages (from hmmlearn) (1.24.3)\n",
      "Requirement already satisfied: scikit-learn!=0.22.0,>=0.16 in d:\\coding\\conda\\lib\\site-packages (from hmmlearn) (1.3.0)\n",
      "Requirement already satisfied: scipy>=0.19 in d:\\coding\\conda\\lib\\site-packages (from hmmlearn) (1.11.1)\n",
      "Requirement already satisfied: joblib>=1.1.1 in d:\\coding\\conda\\lib\\site-packages (from scikit-learn!=0.22.0,>=0.16->hmmlearn) (1.2.0)\n",
      "Requirement already satisfied: threadpoolctl>=2.0.0 in d:\\coding\\conda\\lib\\site-packages (from scikit-learn!=0.22.0,>=0.16->hmmlearn) (2.2.0)\n",
      "Downloading hmmlearn-0.3.2-cp311-cp311-win_amd64.whl (125 kB)\n",
      "   ---------------------------------------- 0.0/125.4 kB ? eta -:--:--\n",
      "   --- ------------------------------------ 10.2/125.4 kB ? eta -:--:--\n",
      "   --- ------------------------------------ 10.2/125.4 kB ? eta -:--:--\n",
      "   --- ------------------------------------ 10.2/125.4 kB ? eta -:--:--\n",
      "   --------- ----------------------------- 30.7/125.4 kB 119.1 kB/s eta 0:00:01\n",
      "   ---------------------- ---------------- 71.7/125.4 kB 302.7 kB/s eta 0:00:01\n",
      "   ---------------------- ---------------- 71.7/125.4 kB 302.7 kB/s eta 0:00:01\n",
      "   ---------------------- ---------------- 71.7/125.4 kB 302.7 kB/s eta 0:00:01\n",
      "   ---------------------- ---------------- 71.7/125.4 kB 302.7 kB/s eta 0:00:01\n",
      "   -------------------------------------- 125.4/125.4 kB 307.0 kB/s eta 0:00:00\n",
      "Installing collected packages: hmmlearn\n",
      "Successfully installed hmmlearn-0.3.2\n"
     ]
    }
   ],
   "source": [
    "!pip install hmmlearn"
   ]
  },
  {
   "cell_type": "code",
   "execution_count": 6,
   "id": "df575157-9045-4088-8cbb-354d7f22fe1c",
   "metadata": {
    "tags": []
   },
   "outputs": [],
   "source": [
    "from hmmlearn import hmm"
   ]
  },
  {
   "cell_type": "code",
   "execution_count": 8,
   "id": "ddee7af7-6869-4a55-9fef-b0f382b58d5e",
   "metadata": {
    "tags": []
   },
   "outputs": [],
   "source": [
    "df = pd.read_csv(r\"D:\\Mages\\csv files\\archive\\associatedpress-johns-hopkins-coronavirus-case-tracker\\1_county_level_confirmed_cases.csv\")"
   ]
  },
  {
   "cell_type": "code",
   "execution_count": 9,
   "id": "bf793b41-c7d6-4c25-ba42-e5b90048cf0e",
   "metadata": {
    "tags": []
   },
   "outputs": [
    {
     "data": {
      "text/html": [
       "<div>\n",
       "<style scoped>\n",
       "    .dataframe tbody tr th:only-of-type {\n",
       "        vertical-align: middle;\n",
       "    }\n",
       "\n",
       "    .dataframe tbody tr th {\n",
       "        vertical-align: top;\n",
       "    }\n",
       "\n",
       "    .dataframe thead th {\n",
       "        text-align: right;\n",
       "    }\n",
       "</style>\n",
       "<table border=\"1\" class=\"dataframe\">\n",
       "  <thead>\n",
       "    <tr style=\"text-align: right;\">\n",
       "      <th></th>\n",
       "      <th>last_update</th>\n",
       "      <th>location_type</th>\n",
       "      <th>state</th>\n",
       "      <th>county_name</th>\n",
       "      <th>county_name_long</th>\n",
       "      <th>fips_code</th>\n",
       "      <th>lat</th>\n",
       "      <th>lon</th>\n",
       "      <th>NCHS_urbanization</th>\n",
       "      <th>total_population</th>\n",
       "      <th>confirmed</th>\n",
       "      <th>confirmed_per_100000</th>\n",
       "      <th>deaths</th>\n",
       "      <th>deaths_per_100000</th>\n",
       "    </tr>\n",
       "  </thead>\n",
       "  <tbody>\n",
       "    <tr>\n",
       "      <th>0</th>\n",
       "      <td>2020-08-15 23:27:16 UTC</td>\n",
       "      <td>county</td>\n",
       "      <td>Alabama</td>\n",
       "      <td>Autauga</td>\n",
       "      <td>Autauga, Alabama, US</td>\n",
       "      <td>1001.0</td>\n",
       "      <td>32.539527</td>\n",
       "      <td>-86.644082</td>\n",
       "      <td>Medium metro</td>\n",
       "      <td>55200.0</td>\n",
       "      <td>1206</td>\n",
       "      <td>2184.78</td>\n",
       "      <td>22</td>\n",
       "      <td>39.86</td>\n",
       "    </tr>\n",
       "    <tr>\n",
       "      <th>1</th>\n",
       "      <td>2020-08-15 23:27:16 UTC</td>\n",
       "      <td>county</td>\n",
       "      <td>Alabama</td>\n",
       "      <td>Baldwin</td>\n",
       "      <td>Baldwin, Alabama, US</td>\n",
       "      <td>1003.0</td>\n",
       "      <td>30.727750</td>\n",
       "      <td>-87.722071</td>\n",
       "      <td>Small metro</td>\n",
       "      <td>208107.0</td>\n",
       "      <td>3839</td>\n",
       "      <td>1844.72</td>\n",
       "      <td>29</td>\n",
       "      <td>13.94</td>\n",
       "    </tr>\n",
       "    <tr>\n",
       "      <th>2</th>\n",
       "      <td>2020-08-15 23:27:16 UTC</td>\n",
       "      <td>county</td>\n",
       "      <td>Alabama</td>\n",
       "      <td>Barbour</td>\n",
       "      <td>Barbour, Alabama, US</td>\n",
       "      <td>1005.0</td>\n",
       "      <td>31.868263</td>\n",
       "      <td>-85.387129</td>\n",
       "      <td>Non-core</td>\n",
       "      <td>25782.0</td>\n",
       "      <td>598</td>\n",
       "      <td>2319.45</td>\n",
       "      <td>6</td>\n",
       "      <td>23.27</td>\n",
       "    </tr>\n",
       "    <tr>\n",
       "      <th>3</th>\n",
       "      <td>2020-08-15 23:27:16 UTC</td>\n",
       "      <td>county</td>\n",
       "      <td>Alabama</td>\n",
       "      <td>Bibb</td>\n",
       "      <td>Bibb, Alabama, US</td>\n",
       "      <td>1007.0</td>\n",
       "      <td>32.996421</td>\n",
       "      <td>-87.125115</td>\n",
       "      <td>Large fringe metro</td>\n",
       "      <td>22527.0</td>\n",
       "      <td>469</td>\n",
       "      <td>2081.95</td>\n",
       "      <td>5</td>\n",
       "      <td>22.20</td>\n",
       "    </tr>\n",
       "    <tr>\n",
       "      <th>4</th>\n",
       "      <td>2020-08-15 23:27:16 UTC</td>\n",
       "      <td>county</td>\n",
       "      <td>Alabama</td>\n",
       "      <td>Blount</td>\n",
       "      <td>Blount, Alabama, US</td>\n",
       "      <td>1009.0</td>\n",
       "      <td>33.982109</td>\n",
       "      <td>-86.567906</td>\n",
       "      <td>Large fringe metro</td>\n",
       "      <td>57645.0</td>\n",
       "      <td>854</td>\n",
       "      <td>1481.48</td>\n",
       "      <td>5</td>\n",
       "      <td>8.67</td>\n",
       "    </tr>\n",
       "    <tr>\n",
       "      <th>...</th>\n",
       "      <td>...</td>\n",
       "      <td>...</td>\n",
       "      <td>...</td>\n",
       "      <td>...</td>\n",
       "      <td>...</td>\n",
       "      <td>...</td>\n",
       "      <td>...</td>\n",
       "      <td>...</td>\n",
       "      <td>...</td>\n",
       "      <td>...</td>\n",
       "      <td>...</td>\n",
       "      <td>...</td>\n",
       "      <td>...</td>\n",
       "      <td>...</td>\n",
       "    </tr>\n",
       "    <tr>\n",
       "      <th>3250</th>\n",
       "      <td>2020-08-15 23:27:16 UTC</td>\n",
       "      <td>special_exception</td>\n",
       "      <td>Utah</td>\n",
       "      <td>Central Utah</td>\n",
       "      <td>Central Utah, Utah, US</td>\n",
       "      <td>NaN</td>\n",
       "      <td>39.372319</td>\n",
       "      <td>-111.575868</td>\n",
       "      <td>NaN</td>\n",
       "      <td>NaN</td>\n",
       "      <td>447</td>\n",
       "      <td>NaN</td>\n",
       "      <td>3</td>\n",
       "      <td>NaN</td>\n",
       "    </tr>\n",
       "    <tr>\n",
       "      <th>3251</th>\n",
       "      <td>2020-08-15 23:27:16 UTC</td>\n",
       "      <td>special_exception</td>\n",
       "      <td>Utah</td>\n",
       "      <td>Southeast Utah</td>\n",
       "      <td>Southeast Utah, Utah, US</td>\n",
       "      <td>NaN</td>\n",
       "      <td>38.996171</td>\n",
       "      <td>-110.701396</td>\n",
       "      <td>NaN</td>\n",
       "      <td>NaN</td>\n",
       "      <td>117</td>\n",
       "      <td>NaN</td>\n",
       "      <td>1</td>\n",
       "      <td>NaN</td>\n",
       "    </tr>\n",
       "    <tr>\n",
       "      <th>3252</th>\n",
       "      <td>2020-08-15 23:27:16 UTC</td>\n",
       "      <td>special_exception</td>\n",
       "      <td>Utah</td>\n",
       "      <td>Southwest Utah</td>\n",
       "      <td>Southwest Utah, Utah, US</td>\n",
       "      <td>NaN</td>\n",
       "      <td>37.854472</td>\n",
       "      <td>-111.441876</td>\n",
       "      <td>NaN</td>\n",
       "      <td>NaN</td>\n",
       "      <td>3312</td>\n",
       "      <td>NaN</td>\n",
       "      <td>26</td>\n",
       "      <td>NaN</td>\n",
       "    </tr>\n",
       "    <tr>\n",
       "      <th>3253</th>\n",
       "      <td>2020-08-15 23:27:16 UTC</td>\n",
       "      <td>special_exception</td>\n",
       "      <td>Utah</td>\n",
       "      <td>TriCounty</td>\n",
       "      <td>TriCounty, Utah, US</td>\n",
       "      <td>NaN</td>\n",
       "      <td>40.124915</td>\n",
       "      <td>-109.517442</td>\n",
       "      <td>NaN</td>\n",
       "      <td>NaN</td>\n",
       "      <td>190</td>\n",
       "      <td>NaN</td>\n",
       "      <td>0</td>\n",
       "      <td>NaN</td>\n",
       "    </tr>\n",
       "    <tr>\n",
       "      <th>3254</th>\n",
       "      <td>2020-08-15 23:27:16 UTC</td>\n",
       "      <td>special_exception</td>\n",
       "      <td>Utah</td>\n",
       "      <td>Weber-Morgan</td>\n",
       "      <td>Weber-Morgan, Utah, US</td>\n",
       "      <td>NaN</td>\n",
       "      <td>41.271160</td>\n",
       "      <td>-111.914512</td>\n",
       "      <td>NaN</td>\n",
       "      <td>NaN</td>\n",
       "      <td>2971</td>\n",
       "      <td>NaN</td>\n",
       "      <td>25</td>\n",
       "      <td>NaN</td>\n",
       "    </tr>\n",
       "  </tbody>\n",
       "</table>\n",
       "<p>3255 rows × 14 columns</p>\n",
       "</div>"
      ],
      "text/plain": [
       "                  last_update      location_type    state     county_name  \\\n",
       "0     2020-08-15 23:27:16 UTC             county  Alabama         Autauga   \n",
       "1     2020-08-15 23:27:16 UTC             county  Alabama         Baldwin   \n",
       "2     2020-08-15 23:27:16 UTC             county  Alabama         Barbour   \n",
       "3     2020-08-15 23:27:16 UTC             county  Alabama            Bibb   \n",
       "4     2020-08-15 23:27:16 UTC             county  Alabama          Blount   \n",
       "...                       ...                ...      ...             ...   \n",
       "3250  2020-08-15 23:27:16 UTC  special_exception     Utah    Central Utah   \n",
       "3251  2020-08-15 23:27:16 UTC  special_exception     Utah  Southeast Utah   \n",
       "3252  2020-08-15 23:27:16 UTC  special_exception     Utah  Southwest Utah   \n",
       "3253  2020-08-15 23:27:16 UTC  special_exception     Utah       TriCounty   \n",
       "3254  2020-08-15 23:27:16 UTC  special_exception     Utah    Weber-Morgan   \n",
       "\n",
       "              county_name_long  fips_code        lat         lon  \\\n",
       "0         Autauga, Alabama, US     1001.0  32.539527  -86.644082   \n",
       "1         Baldwin, Alabama, US     1003.0  30.727750  -87.722071   \n",
       "2         Barbour, Alabama, US     1005.0  31.868263  -85.387129   \n",
       "3            Bibb, Alabama, US     1007.0  32.996421  -87.125115   \n",
       "4          Blount, Alabama, US     1009.0  33.982109  -86.567906   \n",
       "...                        ...        ...        ...         ...   \n",
       "3250    Central Utah, Utah, US        NaN  39.372319 -111.575868   \n",
       "3251  Southeast Utah, Utah, US        NaN  38.996171 -110.701396   \n",
       "3252  Southwest Utah, Utah, US        NaN  37.854472 -111.441876   \n",
       "3253       TriCounty, Utah, US        NaN  40.124915 -109.517442   \n",
       "3254    Weber-Morgan, Utah, US        NaN  41.271160 -111.914512   \n",
       "\n",
       "       NCHS_urbanization  total_population  confirmed  confirmed_per_100000  \\\n",
       "0           Medium metro           55200.0       1206               2184.78   \n",
       "1            Small metro          208107.0       3839               1844.72   \n",
       "2               Non-core           25782.0        598               2319.45   \n",
       "3     Large fringe metro           22527.0        469               2081.95   \n",
       "4     Large fringe metro           57645.0        854               1481.48   \n",
       "...                  ...               ...        ...                   ...   \n",
       "3250                 NaN               NaN        447                   NaN   \n",
       "3251                 NaN               NaN        117                   NaN   \n",
       "3252                 NaN               NaN       3312                   NaN   \n",
       "3253                 NaN               NaN        190                   NaN   \n",
       "3254                 NaN               NaN       2971                   NaN   \n",
       "\n",
       "      deaths  deaths_per_100000  \n",
       "0         22              39.86  \n",
       "1         29              13.94  \n",
       "2          6              23.27  \n",
       "3          5              22.20  \n",
       "4          5               8.67  \n",
       "...      ...                ...  \n",
       "3250       3                NaN  \n",
       "3251       1                NaN  \n",
       "3252      26                NaN  \n",
       "3253       0                NaN  \n",
       "3254      25                NaN  \n",
       "\n",
       "[3255 rows x 14 columns]"
      ]
     },
     "execution_count": 9,
     "metadata": {},
     "output_type": "execute_result"
    }
   ],
   "source": [
    "df"
   ]
  },
  {
   "cell_type": "code",
   "execution_count": 13,
   "id": "887e7444-1e94-4891-b44d-adb60bd759cc",
   "metadata": {
    "tags": []
   },
   "outputs": [
    {
     "name": "stdout",
     "output_type": "stream",
     "text": [
      "Index(['last_update', 'location_type', 'state', 'county_name',\n",
      "       'county_name_long', 'fips_code', 'lat', 'lon', 'NCHS_urbanization',\n",
      "       'total_population', 'confirmed', 'confirmed_per_100000', 'deaths',\n",
      "       'deaths_per_100000'],\n",
      "      dtype='object')\n"
     ]
    }
   ],
   "source": [
    "print(df.columns)"
   ]
  },
  {
   "cell_type": "code",
   "execution_count": 14,
   "id": "ca9cb8c7-f436-4678-9f4d-42df72abae26",
   "metadata": {
    "tags": []
   },
   "outputs": [],
   "source": [
    "df['last_update'] = pd.to_datetime(df['last_update'], format='%Y-%m-%d %H:%M:%S %Z')"
   ]
  },
  {
   "cell_type": "code",
   "execution_count": 15,
   "id": "0bffe632-8771-47e1-ad9d-2df14d55c078",
   "metadata": {
    "tags": []
   },
   "outputs": [],
   "source": [
    "#sorting the df by dates  😒"
   ]
  },
  {
   "cell_type": "code",
   "execution_count": 16,
   "id": "b1bda743-7933-4a9b-8d5d-4153efb3a5bb",
   "metadata": {
    "tags": []
   },
   "outputs": [],
   "source": [
    "df.sort_values('last_update', inplace=True)"
   ]
  },
  {
   "cell_type": "code",
   "execution_count": 17,
   "id": "435f070b-cbe8-41ee-881a-9a407feb7520",
   "metadata": {
    "tags": []
   },
   "outputs": [
    {
     "data": {
      "text/html": [
       "<div>\n",
       "<style scoped>\n",
       "    .dataframe tbody tr th:only-of-type {\n",
       "        vertical-align: middle;\n",
       "    }\n",
       "\n",
       "    .dataframe tbody tr th {\n",
       "        vertical-align: top;\n",
       "    }\n",
       "\n",
       "    .dataframe thead th {\n",
       "        text-align: right;\n",
       "    }\n",
       "</style>\n",
       "<table border=\"1\" class=\"dataframe\">\n",
       "  <thead>\n",
       "    <tr style=\"text-align: right;\">\n",
       "      <th></th>\n",
       "      <th>last_update</th>\n",
       "      <th>location_type</th>\n",
       "      <th>state</th>\n",
       "      <th>county_name</th>\n",
       "      <th>county_name_long</th>\n",
       "      <th>fips_code</th>\n",
       "      <th>lat</th>\n",
       "      <th>lon</th>\n",
       "      <th>NCHS_urbanization</th>\n",
       "      <th>total_population</th>\n",
       "      <th>confirmed</th>\n",
       "      <th>confirmed_per_100000</th>\n",
       "      <th>deaths</th>\n",
       "      <th>deaths_per_100000</th>\n",
       "    </tr>\n",
       "  </thead>\n",
       "  <tbody>\n",
       "    <tr>\n",
       "      <th>3191</th>\n",
       "      <td>2020-08-07 22:34:20+00:00</td>\n",
       "      <td>out_of_state</td>\n",
       "      <td>Maine</td>\n",
       "      <td>Out of ME</td>\n",
       "      <td>Out of ME, Maine, US</td>\n",
       "      <td>80023.0</td>\n",
       "      <td>NaN</td>\n",
       "      <td>NaN</td>\n",
       "      <td>NaN</td>\n",
       "      <td>NaN</td>\n",
       "      <td>0</td>\n",
       "      <td>NaN</td>\n",
       "      <td>0</td>\n",
       "      <td>NaN</td>\n",
       "    </tr>\n",
       "    <tr>\n",
       "      <th>2164</th>\n",
       "      <td>2020-08-15 23:27:16+00:00</td>\n",
       "      <td>county</td>\n",
       "      <td>Oklahoma</td>\n",
       "      <td>McIntosh</td>\n",
       "      <td>McIntosh, Oklahoma, US</td>\n",
       "      <td>40091.0</td>\n",
       "      <td>35.372355</td>\n",
       "      <td>-95.665993</td>\n",
       "      <td>Non-core</td>\n",
       "      <td>19819.0</td>\n",
       "      <td>205</td>\n",
       "      <td>1034.36</td>\n",
       "      <td>2</td>\n",
       "      <td>10.09</td>\n",
       "    </tr>\n",
       "    <tr>\n",
       "      <th>2165</th>\n",
       "      <td>2020-08-15 23:27:16+00:00</td>\n",
       "      <td>county</td>\n",
       "      <td>Oklahoma</td>\n",
       "      <td>Murray</td>\n",
       "      <td>Murray, Oklahoma, US</td>\n",
       "      <td>40099.0</td>\n",
       "      <td>34.481160</td>\n",
       "      <td>-97.068263</td>\n",
       "      <td>Non-core</td>\n",
       "      <td>13875.0</td>\n",
       "      <td>79</td>\n",
       "      <td>569.37</td>\n",
       "      <td>0</td>\n",
       "      <td>0.00</td>\n",
       "    </tr>\n",
       "    <tr>\n",
       "      <th>2166</th>\n",
       "      <td>2020-08-15 23:27:16+00:00</td>\n",
       "      <td>county</td>\n",
       "      <td>Oklahoma</td>\n",
       "      <td>Muskogee</td>\n",
       "      <td>Muskogee, Oklahoma, US</td>\n",
       "      <td>40101.0</td>\n",
       "      <td>35.613185</td>\n",
       "      <td>-95.378030</td>\n",
       "      <td>Micropolitan</td>\n",
       "      <td>69084.0</td>\n",
       "      <td>572</td>\n",
       "      <td>827.98</td>\n",
       "      <td>16</td>\n",
       "      <td>23.16</td>\n",
       "    </tr>\n",
       "    <tr>\n",
       "      <th>2167</th>\n",
       "      <td>2020-08-15 23:27:16+00:00</td>\n",
       "      <td>county</td>\n",
       "      <td>Oklahoma</td>\n",
       "      <td>Noble</td>\n",
       "      <td>Noble, Oklahoma, US</td>\n",
       "      <td>40103.0</td>\n",
       "      <td>36.389533</td>\n",
       "      <td>-97.229287</td>\n",
       "      <td>Non-core</td>\n",
       "      <td>11411.0</td>\n",
       "      <td>91</td>\n",
       "      <td>797.48</td>\n",
       "      <td>2</td>\n",
       "      <td>17.53</td>\n",
       "    </tr>\n",
       "    <tr>\n",
       "      <th>...</th>\n",
       "      <td>...</td>\n",
       "      <td>...</td>\n",
       "      <td>...</td>\n",
       "      <td>...</td>\n",
       "      <td>...</td>\n",
       "      <td>...</td>\n",
       "      <td>...</td>\n",
       "      <td>...</td>\n",
       "      <td>...</td>\n",
       "      <td>...</td>\n",
       "      <td>...</td>\n",
       "      <td>...</td>\n",
       "      <td>...</td>\n",
       "      <td>...</td>\n",
       "    </tr>\n",
       "    <tr>\n",
       "      <th>1088</th>\n",
       "      <td>2020-08-15 23:27:16+00:00</td>\n",
       "      <td>county</td>\n",
       "      <td>Kentucky</td>\n",
       "      <td>Rowan</td>\n",
       "      <td>Rowan, Kentucky, US</td>\n",
       "      <td>21205.0</td>\n",
       "      <td>38.194842</td>\n",
       "      <td>-83.420889</td>\n",
       "      <td>Non-core</td>\n",
       "      <td>24499.0</td>\n",
       "      <td>88</td>\n",
       "      <td>359.20</td>\n",
       "      <td>0</td>\n",
       "      <td>0.00</td>\n",
       "    </tr>\n",
       "    <tr>\n",
       "      <th>1089</th>\n",
       "      <td>2020-08-15 23:27:16+00:00</td>\n",
       "      <td>county</td>\n",
       "      <td>Kentucky</td>\n",
       "      <td>Russell</td>\n",
       "      <td>Russell, Kentucky, US</td>\n",
       "      <td>21207.0</td>\n",
       "      <td>36.993084</td>\n",
       "      <td>-85.060701</td>\n",
       "      <td>Non-core</td>\n",
       "      <td>17760.0</td>\n",
       "      <td>139</td>\n",
       "      <td>782.66</td>\n",
       "      <td>5</td>\n",
       "      <td>28.15</td>\n",
       "    </tr>\n",
       "    <tr>\n",
       "      <th>1090</th>\n",
       "      <td>2020-08-15 23:27:16+00:00</td>\n",
       "      <td>county</td>\n",
       "      <td>Kentucky</td>\n",
       "      <td>Scott</td>\n",
       "      <td>Scott, Kentucky, US</td>\n",
       "      <td>21209.0</td>\n",
       "      <td>38.296223</td>\n",
       "      <td>-84.581663</td>\n",
       "      <td>Medium metro</td>\n",
       "      <td>53517.0</td>\n",
       "      <td>426</td>\n",
       "      <td>796.01</td>\n",
       "      <td>0</td>\n",
       "      <td>0.00</td>\n",
       "    </tr>\n",
       "    <tr>\n",
       "      <th>1080</th>\n",
       "      <td>2020-08-15 23:27:16+00:00</td>\n",
       "      <td>county</td>\n",
       "      <td>Kentucky</td>\n",
       "      <td>Owsley</td>\n",
       "      <td>Owsley, Kentucky, US</td>\n",
       "      <td>21189.0</td>\n",
       "      <td>37.428239</td>\n",
       "      <td>-83.688114</td>\n",
       "      <td>Non-core</td>\n",
       "      <td>4463.0</td>\n",
       "      <td>15</td>\n",
       "      <td>336.10</td>\n",
       "      <td>0</td>\n",
       "      <td>0.00</td>\n",
       "    </tr>\n",
       "    <tr>\n",
       "      <th>3254</th>\n",
       "      <td>2020-08-15 23:27:16+00:00</td>\n",
       "      <td>special_exception</td>\n",
       "      <td>Utah</td>\n",
       "      <td>Weber-Morgan</td>\n",
       "      <td>Weber-Morgan, Utah, US</td>\n",
       "      <td>NaN</td>\n",
       "      <td>41.271160</td>\n",
       "      <td>-111.914512</td>\n",
       "      <td>NaN</td>\n",
       "      <td>NaN</td>\n",
       "      <td>2971</td>\n",
       "      <td>NaN</td>\n",
       "      <td>25</td>\n",
       "      <td>NaN</td>\n",
       "    </tr>\n",
       "  </tbody>\n",
       "</table>\n",
       "<p>3255 rows × 14 columns</p>\n",
       "</div>"
      ],
      "text/plain": [
       "                   last_update      location_type     state   county_name  \\\n",
       "3191 2020-08-07 22:34:20+00:00       out_of_state     Maine     Out of ME   \n",
       "2164 2020-08-15 23:27:16+00:00             county  Oklahoma      McIntosh   \n",
       "2165 2020-08-15 23:27:16+00:00             county  Oklahoma        Murray   \n",
       "2166 2020-08-15 23:27:16+00:00             county  Oklahoma      Muskogee   \n",
       "2167 2020-08-15 23:27:16+00:00             county  Oklahoma         Noble   \n",
       "...                        ...                ...       ...           ...   \n",
       "1088 2020-08-15 23:27:16+00:00             county  Kentucky         Rowan   \n",
       "1089 2020-08-15 23:27:16+00:00             county  Kentucky       Russell   \n",
       "1090 2020-08-15 23:27:16+00:00             county  Kentucky         Scott   \n",
       "1080 2020-08-15 23:27:16+00:00             county  Kentucky        Owsley   \n",
       "3254 2020-08-15 23:27:16+00:00  special_exception      Utah  Weber-Morgan   \n",
       "\n",
       "            county_name_long  fips_code        lat         lon  \\\n",
       "3191    Out of ME, Maine, US    80023.0        NaN         NaN   \n",
       "2164  McIntosh, Oklahoma, US    40091.0  35.372355  -95.665993   \n",
       "2165    Murray, Oklahoma, US    40099.0  34.481160  -97.068263   \n",
       "2166  Muskogee, Oklahoma, US    40101.0  35.613185  -95.378030   \n",
       "2167     Noble, Oklahoma, US    40103.0  36.389533  -97.229287   \n",
       "...                      ...        ...        ...         ...   \n",
       "1088     Rowan, Kentucky, US    21205.0  38.194842  -83.420889   \n",
       "1089   Russell, Kentucky, US    21207.0  36.993084  -85.060701   \n",
       "1090     Scott, Kentucky, US    21209.0  38.296223  -84.581663   \n",
       "1080    Owsley, Kentucky, US    21189.0  37.428239  -83.688114   \n",
       "3254  Weber-Morgan, Utah, US        NaN  41.271160 -111.914512   \n",
       "\n",
       "     NCHS_urbanization  total_population  confirmed  confirmed_per_100000  \\\n",
       "3191               NaN               NaN          0                   NaN   \n",
       "2164          Non-core           19819.0        205               1034.36   \n",
       "2165          Non-core           13875.0         79                569.37   \n",
       "2166      Micropolitan           69084.0        572                827.98   \n",
       "2167          Non-core           11411.0         91                797.48   \n",
       "...                ...               ...        ...                   ...   \n",
       "1088          Non-core           24499.0         88                359.20   \n",
       "1089          Non-core           17760.0        139                782.66   \n",
       "1090      Medium metro           53517.0        426                796.01   \n",
       "1080          Non-core            4463.0         15                336.10   \n",
       "3254               NaN               NaN       2971                   NaN   \n",
       "\n",
       "      deaths  deaths_per_100000  \n",
       "3191       0                NaN  \n",
       "2164       2              10.09  \n",
       "2165       0               0.00  \n",
       "2166      16              23.16  \n",
       "2167       2              17.53  \n",
       "...      ...                ...  \n",
       "1088       0               0.00  \n",
       "1089       5              28.15  \n",
       "1090       0               0.00  \n",
       "1080       0               0.00  \n",
       "3254      25                NaN  \n",
       "\n",
       "[3255 rows x 14 columns]"
      ]
     },
     "execution_count": 17,
     "metadata": {},
     "output_type": "execute_result"
    }
   ],
   "source": [
    "df"
   ]
  },
  {
   "cell_type": "code",
   "execution_count": 18,
   "id": "cab79529-7145-467f-b205-8b74d86c88ad",
   "metadata": {
    "tags": []
   },
   "outputs": [],
   "source": [
    "#checking for missing values and \"handling them\""
   ]
  },
  {
   "cell_type": "code",
   "execution_count": 19,
   "id": "2205fe8e-61d6-47f0-941a-9231efe6bf8a",
   "metadata": {
    "tags": []
   },
   "outputs": [],
   "source": [
    "df.fillna(method='ffill', inplace=True)"
   ]
  },
  {
   "cell_type": "code",
   "execution_count": 20,
   "id": "d9df5150-ec9d-40be-a9db-96f951d85292",
   "metadata": {
    "tags": []
   },
   "outputs": [
    {
     "data": {
      "text/html": [
       "<div>\n",
       "<style scoped>\n",
       "    .dataframe tbody tr th:only-of-type {\n",
       "        vertical-align: middle;\n",
       "    }\n",
       "\n",
       "    .dataframe tbody tr th {\n",
       "        vertical-align: top;\n",
       "    }\n",
       "\n",
       "    .dataframe thead th {\n",
       "        text-align: right;\n",
       "    }\n",
       "</style>\n",
       "<table border=\"1\" class=\"dataframe\">\n",
       "  <thead>\n",
       "    <tr style=\"text-align: right;\">\n",
       "      <th></th>\n",
       "      <th>last_update</th>\n",
       "      <th>location_type</th>\n",
       "      <th>state</th>\n",
       "      <th>county_name</th>\n",
       "      <th>county_name_long</th>\n",
       "      <th>fips_code</th>\n",
       "      <th>lat</th>\n",
       "      <th>lon</th>\n",
       "      <th>NCHS_urbanization</th>\n",
       "      <th>total_population</th>\n",
       "      <th>confirmed</th>\n",
       "      <th>confirmed_per_100000</th>\n",
       "      <th>deaths</th>\n",
       "      <th>deaths_per_100000</th>\n",
       "    </tr>\n",
       "  </thead>\n",
       "  <tbody>\n",
       "    <tr>\n",
       "      <th>3191</th>\n",
       "      <td>2020-08-07 22:34:20+00:00</td>\n",
       "      <td>out_of_state</td>\n",
       "      <td>Maine</td>\n",
       "      <td>Out of ME</td>\n",
       "      <td>Out of ME, Maine, US</td>\n",
       "      <td>80023.0</td>\n",
       "      <td>NaN</td>\n",
       "      <td>NaN</td>\n",
       "      <td>NaN</td>\n",
       "      <td>NaN</td>\n",
       "      <td>0</td>\n",
       "      <td>NaN</td>\n",
       "      <td>0</td>\n",
       "      <td>NaN</td>\n",
       "    </tr>\n",
       "    <tr>\n",
       "      <th>2164</th>\n",
       "      <td>2020-08-15 23:27:16+00:00</td>\n",
       "      <td>county</td>\n",
       "      <td>Oklahoma</td>\n",
       "      <td>McIntosh</td>\n",
       "      <td>McIntosh, Oklahoma, US</td>\n",
       "      <td>40091.0</td>\n",
       "      <td>35.372355</td>\n",
       "      <td>-95.665993</td>\n",
       "      <td>Non-core</td>\n",
       "      <td>19819.0</td>\n",
       "      <td>205</td>\n",
       "      <td>1034.36</td>\n",
       "      <td>2</td>\n",
       "      <td>10.09</td>\n",
       "    </tr>\n",
       "    <tr>\n",
       "      <th>2165</th>\n",
       "      <td>2020-08-15 23:27:16+00:00</td>\n",
       "      <td>county</td>\n",
       "      <td>Oklahoma</td>\n",
       "      <td>Murray</td>\n",
       "      <td>Murray, Oklahoma, US</td>\n",
       "      <td>40099.0</td>\n",
       "      <td>34.481160</td>\n",
       "      <td>-97.068263</td>\n",
       "      <td>Non-core</td>\n",
       "      <td>13875.0</td>\n",
       "      <td>79</td>\n",
       "      <td>569.37</td>\n",
       "      <td>0</td>\n",
       "      <td>0.00</td>\n",
       "    </tr>\n",
       "    <tr>\n",
       "      <th>2166</th>\n",
       "      <td>2020-08-15 23:27:16+00:00</td>\n",
       "      <td>county</td>\n",
       "      <td>Oklahoma</td>\n",
       "      <td>Muskogee</td>\n",
       "      <td>Muskogee, Oklahoma, US</td>\n",
       "      <td>40101.0</td>\n",
       "      <td>35.613185</td>\n",
       "      <td>-95.378030</td>\n",
       "      <td>Micropolitan</td>\n",
       "      <td>69084.0</td>\n",
       "      <td>572</td>\n",
       "      <td>827.98</td>\n",
       "      <td>16</td>\n",
       "      <td>23.16</td>\n",
       "    </tr>\n",
       "    <tr>\n",
       "      <th>2167</th>\n",
       "      <td>2020-08-15 23:27:16+00:00</td>\n",
       "      <td>county</td>\n",
       "      <td>Oklahoma</td>\n",
       "      <td>Noble</td>\n",
       "      <td>Noble, Oklahoma, US</td>\n",
       "      <td>40103.0</td>\n",
       "      <td>36.389533</td>\n",
       "      <td>-97.229287</td>\n",
       "      <td>Non-core</td>\n",
       "      <td>11411.0</td>\n",
       "      <td>91</td>\n",
       "      <td>797.48</td>\n",
       "      <td>2</td>\n",
       "      <td>17.53</td>\n",
       "    </tr>\n",
       "    <tr>\n",
       "      <th>...</th>\n",
       "      <td>...</td>\n",
       "      <td>...</td>\n",
       "      <td>...</td>\n",
       "      <td>...</td>\n",
       "      <td>...</td>\n",
       "      <td>...</td>\n",
       "      <td>...</td>\n",
       "      <td>...</td>\n",
       "      <td>...</td>\n",
       "      <td>...</td>\n",
       "      <td>...</td>\n",
       "      <td>...</td>\n",
       "      <td>...</td>\n",
       "      <td>...</td>\n",
       "    </tr>\n",
       "    <tr>\n",
       "      <th>1088</th>\n",
       "      <td>2020-08-15 23:27:16+00:00</td>\n",
       "      <td>county</td>\n",
       "      <td>Kentucky</td>\n",
       "      <td>Rowan</td>\n",
       "      <td>Rowan, Kentucky, US</td>\n",
       "      <td>21205.0</td>\n",
       "      <td>38.194842</td>\n",
       "      <td>-83.420889</td>\n",
       "      <td>Non-core</td>\n",
       "      <td>24499.0</td>\n",
       "      <td>88</td>\n",
       "      <td>359.20</td>\n",
       "      <td>0</td>\n",
       "      <td>0.00</td>\n",
       "    </tr>\n",
       "    <tr>\n",
       "      <th>1089</th>\n",
       "      <td>2020-08-15 23:27:16+00:00</td>\n",
       "      <td>county</td>\n",
       "      <td>Kentucky</td>\n",
       "      <td>Russell</td>\n",
       "      <td>Russell, Kentucky, US</td>\n",
       "      <td>21207.0</td>\n",
       "      <td>36.993084</td>\n",
       "      <td>-85.060701</td>\n",
       "      <td>Non-core</td>\n",
       "      <td>17760.0</td>\n",
       "      <td>139</td>\n",
       "      <td>782.66</td>\n",
       "      <td>5</td>\n",
       "      <td>28.15</td>\n",
       "    </tr>\n",
       "    <tr>\n",
       "      <th>1090</th>\n",
       "      <td>2020-08-15 23:27:16+00:00</td>\n",
       "      <td>county</td>\n",
       "      <td>Kentucky</td>\n",
       "      <td>Scott</td>\n",
       "      <td>Scott, Kentucky, US</td>\n",
       "      <td>21209.0</td>\n",
       "      <td>38.296223</td>\n",
       "      <td>-84.581663</td>\n",
       "      <td>Medium metro</td>\n",
       "      <td>53517.0</td>\n",
       "      <td>426</td>\n",
       "      <td>796.01</td>\n",
       "      <td>0</td>\n",
       "      <td>0.00</td>\n",
       "    </tr>\n",
       "    <tr>\n",
       "      <th>1080</th>\n",
       "      <td>2020-08-15 23:27:16+00:00</td>\n",
       "      <td>county</td>\n",
       "      <td>Kentucky</td>\n",
       "      <td>Owsley</td>\n",
       "      <td>Owsley, Kentucky, US</td>\n",
       "      <td>21189.0</td>\n",
       "      <td>37.428239</td>\n",
       "      <td>-83.688114</td>\n",
       "      <td>Non-core</td>\n",
       "      <td>4463.0</td>\n",
       "      <td>15</td>\n",
       "      <td>336.10</td>\n",
       "      <td>0</td>\n",
       "      <td>0.00</td>\n",
       "    </tr>\n",
       "    <tr>\n",
       "      <th>3254</th>\n",
       "      <td>2020-08-15 23:27:16+00:00</td>\n",
       "      <td>special_exception</td>\n",
       "      <td>Utah</td>\n",
       "      <td>Weber-Morgan</td>\n",
       "      <td>Weber-Morgan, Utah, US</td>\n",
       "      <td>21189.0</td>\n",
       "      <td>41.271160</td>\n",
       "      <td>-111.914512</td>\n",
       "      <td>Non-core</td>\n",
       "      <td>4463.0</td>\n",
       "      <td>2971</td>\n",
       "      <td>336.10</td>\n",
       "      <td>25</td>\n",
       "      <td>0.00</td>\n",
       "    </tr>\n",
       "  </tbody>\n",
       "</table>\n",
       "<p>3255 rows × 14 columns</p>\n",
       "</div>"
      ],
      "text/plain": [
       "                   last_update      location_type     state   county_name  \\\n",
       "3191 2020-08-07 22:34:20+00:00       out_of_state     Maine     Out of ME   \n",
       "2164 2020-08-15 23:27:16+00:00             county  Oklahoma      McIntosh   \n",
       "2165 2020-08-15 23:27:16+00:00             county  Oklahoma        Murray   \n",
       "2166 2020-08-15 23:27:16+00:00             county  Oklahoma      Muskogee   \n",
       "2167 2020-08-15 23:27:16+00:00             county  Oklahoma         Noble   \n",
       "...                        ...                ...       ...           ...   \n",
       "1088 2020-08-15 23:27:16+00:00             county  Kentucky         Rowan   \n",
       "1089 2020-08-15 23:27:16+00:00             county  Kentucky       Russell   \n",
       "1090 2020-08-15 23:27:16+00:00             county  Kentucky         Scott   \n",
       "1080 2020-08-15 23:27:16+00:00             county  Kentucky        Owsley   \n",
       "3254 2020-08-15 23:27:16+00:00  special_exception      Utah  Weber-Morgan   \n",
       "\n",
       "            county_name_long  fips_code        lat         lon  \\\n",
       "3191    Out of ME, Maine, US    80023.0        NaN         NaN   \n",
       "2164  McIntosh, Oklahoma, US    40091.0  35.372355  -95.665993   \n",
       "2165    Murray, Oklahoma, US    40099.0  34.481160  -97.068263   \n",
       "2166  Muskogee, Oklahoma, US    40101.0  35.613185  -95.378030   \n",
       "2167     Noble, Oklahoma, US    40103.0  36.389533  -97.229287   \n",
       "...                      ...        ...        ...         ...   \n",
       "1088     Rowan, Kentucky, US    21205.0  38.194842  -83.420889   \n",
       "1089   Russell, Kentucky, US    21207.0  36.993084  -85.060701   \n",
       "1090     Scott, Kentucky, US    21209.0  38.296223  -84.581663   \n",
       "1080    Owsley, Kentucky, US    21189.0  37.428239  -83.688114   \n",
       "3254  Weber-Morgan, Utah, US    21189.0  41.271160 -111.914512   \n",
       "\n",
       "     NCHS_urbanization  total_population  confirmed  confirmed_per_100000  \\\n",
       "3191               NaN               NaN          0                   NaN   \n",
       "2164          Non-core           19819.0        205               1034.36   \n",
       "2165          Non-core           13875.0         79                569.37   \n",
       "2166      Micropolitan           69084.0        572                827.98   \n",
       "2167          Non-core           11411.0         91                797.48   \n",
       "...                ...               ...        ...                   ...   \n",
       "1088          Non-core           24499.0         88                359.20   \n",
       "1089          Non-core           17760.0        139                782.66   \n",
       "1090      Medium metro           53517.0        426                796.01   \n",
       "1080          Non-core            4463.0         15                336.10   \n",
       "3254          Non-core            4463.0       2971                336.10   \n",
       "\n",
       "      deaths  deaths_per_100000  \n",
       "3191       0                NaN  \n",
       "2164       2              10.09  \n",
       "2165       0               0.00  \n",
       "2166      16              23.16  \n",
       "2167       2              17.53  \n",
       "...      ...                ...  \n",
       "1088       0               0.00  \n",
       "1089       5              28.15  \n",
       "1090       0               0.00  \n",
       "1080       0               0.00  \n",
       "3254      25               0.00  \n",
       "\n",
       "[3255 rows x 14 columns]"
      ]
     },
     "execution_count": 20,
     "metadata": {},
     "output_type": "execute_result"
    }
   ],
   "source": [
    "df"
   ]
  },
  {
   "cell_type": "code",
   "execution_count": 22,
   "id": "406edcc0-44d4-4461-8adc-f5f5c435f4b3",
   "metadata": {
    "tags": []
   },
   "outputs": [],
   "source": [
    "#feature selection date population and confirmed cases"
   ]
  },
  {
   "cell_type": "code",
   "execution_count": 25,
   "id": "1fa470a5-8149-4733-9570-da95b88e95d2",
   "metadata": {
    "tags": []
   },
   "outputs": [],
   "source": [
    "selected_columns = ['last_update','total_population', 'confirmed']\n",
    "\n",
    "df = df[selected_columns]"
   ]
  },
  {
   "cell_type": "code",
   "execution_count": null,
   "id": "c271026e-37e0-4c19-875c-906db2bc1258",
   "metadata": {},
   "outputs": [],
   "source": []
  },
  {
   "cell_type": "code",
   "execution_count": 29,
   "id": "490163eb-fe78-45de-8c45-fb74a2ddfab6",
   "metadata": {
    "tags": []
   },
   "outputs": [
    {
     "data": {
      "text/html": [
       "<div>\n",
       "<style scoped>\n",
       "    .dataframe tbody tr th:only-of-type {\n",
       "        vertical-align: middle;\n",
       "    }\n",
       "\n",
       "    .dataframe tbody tr th {\n",
       "        vertical-align: top;\n",
       "    }\n",
       "\n",
       "    .dataframe thead th {\n",
       "        text-align: right;\n",
       "    }\n",
       "</style>\n",
       "<table border=\"1\" class=\"dataframe\">\n",
       "  <thead>\n",
       "    <tr style=\"text-align: right;\">\n",
       "      <th></th>\n",
       "      <th>last_update</th>\n",
       "      <th>total_population</th>\n",
       "      <th>confirmed</th>\n",
       "      <th>Cases_per_capita</th>\n",
       "    </tr>\n",
       "  </thead>\n",
       "  <tbody>\n",
       "    <tr>\n",
       "      <th>3191</th>\n",
       "      <td>2020-08-07 22:34:20+00:00</td>\n",
       "      <td>NaN</td>\n",
       "      <td>0</td>\n",
       "      <td>NaN</td>\n",
       "    </tr>\n",
       "    <tr>\n",
       "      <th>2164</th>\n",
       "      <td>2020-08-15 23:27:16+00:00</td>\n",
       "      <td>19819.0</td>\n",
       "      <td>205</td>\n",
       "      <td>0.010344</td>\n",
       "    </tr>\n",
       "    <tr>\n",
       "      <th>2165</th>\n",
       "      <td>2020-08-15 23:27:16+00:00</td>\n",
       "      <td>13875.0</td>\n",
       "      <td>79</td>\n",
       "      <td>0.005694</td>\n",
       "    </tr>\n",
       "    <tr>\n",
       "      <th>2166</th>\n",
       "      <td>2020-08-15 23:27:16+00:00</td>\n",
       "      <td>69084.0</td>\n",
       "      <td>572</td>\n",
       "      <td>0.008280</td>\n",
       "    </tr>\n",
       "    <tr>\n",
       "      <th>2167</th>\n",
       "      <td>2020-08-15 23:27:16+00:00</td>\n",
       "      <td>11411.0</td>\n",
       "      <td>91</td>\n",
       "      <td>0.007975</td>\n",
       "    </tr>\n",
       "    <tr>\n",
       "      <th>...</th>\n",
       "      <td>...</td>\n",
       "      <td>...</td>\n",
       "      <td>...</td>\n",
       "      <td>...</td>\n",
       "    </tr>\n",
       "    <tr>\n",
       "      <th>1088</th>\n",
       "      <td>2020-08-15 23:27:16+00:00</td>\n",
       "      <td>24499.0</td>\n",
       "      <td>88</td>\n",
       "      <td>0.003592</td>\n",
       "    </tr>\n",
       "    <tr>\n",
       "      <th>1089</th>\n",
       "      <td>2020-08-15 23:27:16+00:00</td>\n",
       "      <td>17760.0</td>\n",
       "      <td>139</td>\n",
       "      <td>0.007827</td>\n",
       "    </tr>\n",
       "    <tr>\n",
       "      <th>1090</th>\n",
       "      <td>2020-08-15 23:27:16+00:00</td>\n",
       "      <td>53517.0</td>\n",
       "      <td>426</td>\n",
       "      <td>0.007960</td>\n",
       "    </tr>\n",
       "    <tr>\n",
       "      <th>1080</th>\n",
       "      <td>2020-08-15 23:27:16+00:00</td>\n",
       "      <td>4463.0</td>\n",
       "      <td>15</td>\n",
       "      <td>0.003361</td>\n",
       "    </tr>\n",
       "    <tr>\n",
       "      <th>3254</th>\n",
       "      <td>2020-08-15 23:27:16+00:00</td>\n",
       "      <td>4463.0</td>\n",
       "      <td>2971</td>\n",
       "      <td>0.665696</td>\n",
       "    </tr>\n",
       "  </tbody>\n",
       "</table>\n",
       "<p>3255 rows × 4 columns</p>\n",
       "</div>"
      ],
      "text/plain": [
       "                   last_update  total_population  confirmed  Cases_per_capita\n",
       "3191 2020-08-07 22:34:20+00:00               NaN          0               NaN\n",
       "2164 2020-08-15 23:27:16+00:00           19819.0        205          0.010344\n",
       "2165 2020-08-15 23:27:16+00:00           13875.0         79          0.005694\n",
       "2166 2020-08-15 23:27:16+00:00           69084.0        572          0.008280\n",
       "2167 2020-08-15 23:27:16+00:00           11411.0         91          0.007975\n",
       "...                        ...               ...        ...               ...\n",
       "1088 2020-08-15 23:27:16+00:00           24499.0         88          0.003592\n",
       "1089 2020-08-15 23:27:16+00:00           17760.0        139          0.007827\n",
       "1090 2020-08-15 23:27:16+00:00           53517.0        426          0.007960\n",
       "1080 2020-08-15 23:27:16+00:00            4463.0         15          0.003361\n",
       "3254 2020-08-15 23:27:16+00:00            4463.0       2971          0.665696\n",
       "\n",
       "[3255 rows x 4 columns]"
      ]
     },
     "execution_count": 29,
     "metadata": {},
     "output_type": "execute_result"
    }
   ],
   "source": [
    "df"
   ]
  },
  {
   "cell_type": "code",
   "execution_count": null,
   "id": "9be45d1a-af88-43ac-bbd8-9626f9ae53a7",
   "metadata": {},
   "outputs": [],
   "source": [
    "#These cells are for cases reported per capita"
   ]
  },
  {
   "cell_type": "code",
   "execution_count": 27,
   "id": "7d900c5b-cde2-4d0e-960d-a3a1705b1b36",
   "metadata": {
    "tags": []
   },
   "outputs": [],
   "source": [
    "df['Cases_per_capita'] = df['confirmed']/df['total_population']"
   ]
  },
  {
   "cell_type": "code",
   "execution_count": 28,
   "id": "67492b9f-7f6b-472f-82df-9bb9a1d9b716",
   "metadata": {
    "tags": []
   },
   "outputs": [
    {
     "data": {
      "text/plain": [
       "3191         NaN\n",
       "2164    0.010344\n",
       "2165    0.005694\n",
       "2166    0.008280\n",
       "2167    0.007975\n",
       "          ...   \n",
       "1088    0.003592\n",
       "1089    0.007827\n",
       "1090    0.007960\n",
       "1080    0.003361\n",
       "3254    0.665696\n",
       "Name: Cases_per_capita, Length: 3255, dtype: float64"
      ]
     },
     "execution_count": 28,
     "metadata": {},
     "output_type": "execute_result"
    }
   ],
   "source": [
    "df['Cases_per_capita']"
   ]
  },
  {
   "cell_type": "code",
   "execution_count": null,
   "id": "376a408c-9976-4ae6-9efc-c347c313cde9",
   "metadata": {},
   "outputs": [],
   "source": []
  },
  {
   "cell_type": "code",
   "execution_count": 30,
   "id": "37cd09e4-674a-4eae-86ba-59daf784bb81",
   "metadata": {
    "tags": []
   },
   "outputs": [],
   "source": [
    "#about to save the data to a new csv file"
   ]
  },
  {
   "cell_type": "code",
   "execution_count": 35,
   "id": "b707c986-7f6d-44b0-a64e-c66f6be12f29",
   "metadata": {
    "tags": []
   },
   "outputs": [],
   "source": [
    "df.to_csv('D:/Mages/csv files/Preprocessed_Covid_data.csv', index=False)\n"
   ]
  },
  {
   "cell_type": "code",
   "execution_count": null,
   "id": "a096a8be-cb70-4676-8b09-69166e5c1a45",
   "metadata": {},
   "outputs": [],
   "source": []
  },
  {
   "cell_type": "code",
   "execution_count": 49,
   "id": "5840be9e-283e-4b4b-b6b7-5fff522a83f6",
   "metadata": {
    "tags": []
   },
   "outputs": [],
   "source": [
    "#Loading the preprocessed data"
   ]
  },
  {
   "cell_type": "code",
   "execution_count": 50,
   "id": "d707fd15-4ca6-49b4-a8ca-573542afdd15",
   "metadata": {
    "tags": []
   },
   "outputs": [],
   "source": [
    "df = pd.read_csv(r\"D:\\Mages\\csv files\\Preprocessed_Covid_data.csv\")"
   ]
  },
  {
   "cell_type": "code",
   "execution_count": null,
   "id": "6ecdd957-3cbf-4891-843d-7f8d766c7089",
   "metadata": {},
   "outputs": [],
   "source": []
  },
  {
   "cell_type": "code",
   "execution_count": 51,
   "id": "a5b43721-3029-4cda-95d4-6364602cda42",
   "metadata": {
    "tags": []
   },
   "outputs": [],
   "source": [
    "#Extracting daily new cases"
   ]
  },
  {
   "cell_type": "code",
   "execution_count": 58,
   "id": "6b555a52-fa57-4da4-afdc-d5fffe0da1cb",
   "metadata": {
    "tags": []
   },
   "outputs": [],
   "source": [
    "import numpy as np\n",
    "\n",
    "observations = np.abs(df[\"confirmed\"].diff().fillna(0).astype(int))\n",
    "\n",
    "# Ensure all values are nonnegative\n",
    "if (observations < 0).any():\n",
    "    raise ValueError(\"Observations contain negative values\")\n",
    "\n",
    "# Reshape if necessary (if observations is 1D)\n",
    "observations = observations.values.reshape(-1, 1)\n",
    "\n",
    "\n"
   ]
  },
  {
   "cell_type": "code",
   "execution_count": null,
   "id": "2f22b270-e5be-4126-95ae-58031ba99d18",
   "metadata": {},
   "outputs": [],
   "source": []
  },
  {
   "cell_type": "code",
   "execution_count": 36,
   "id": "034d290e-3b8d-49f1-83f4-4193c23467ca",
   "metadata": {
    "tags": []
   },
   "outputs": [],
   "source": [
    "#time to define about three hidden states 😒"
   ]
  },
  {
   "cell_type": "code",
   "execution_count": 38,
   "id": "5ff0e4de-9806-4ad0-a199-06b88cc9feaf",
   "metadata": {
    "tags": []
   },
   "outputs": [
    {
     "name": "stderr",
     "output_type": "stream",
     "text": [
      "MultinomialHMM has undergone major changes. The previous version was implementing a CategoricalHMM (a special case of MultinomialHMM). This new implementation follows the standard definition for a Multinomial distribution (e.g. as in https://en.wikipedia.org/wiki/Multinomial_distribution). See these issues for details:\n",
      "https://github.com/hmmlearn/hmmlearn/issues/335\n",
      "https://github.com/hmmlearn/hmmlearn/issues/340\n"
     ]
    }
   ],
   "source": [
    "n_states = 3\n",
    "\n",
    "model = hmm.MultinomialHMM(n_components=n_states, n_iter=100)"
   ]
  },
  {
   "cell_type": "code",
   "execution_count": 39,
   "id": "589cc5da-dfc9-43fa-bc95-93ad6e9ffdcc",
   "metadata": {
    "tags": []
   },
   "outputs": [],
   "source": [
    "#fix that later😁"
   ]
  },
  {
   "cell_type": "code",
   "execution_count": 40,
   "id": "0687887f-0519-4f66-8752-07ce2339feec",
   "metadata": {
    "tags": []
   },
   "outputs": [],
   "source": [
    "#The chains. Initializing transition probabilities"
   ]
  },
  {
   "cell_type": "code",
   "execution_count": 43,
   "id": "84a9f0d9-4013-410e-9c93-a4f0198dd7a9",
   "metadata": {
    "tags": []
   },
   "outputs": [],
   "source": [
    "transition_matrix = [[0.7, 0.2, 0.1], [0.1,0.7,0.2], [0.1,0.2,0.7]]\n",
    "\n",
    "model.transmat_=transition_matrix"
   ]
  },
  {
   "cell_type": "code",
   "execution_count": 42,
   "id": "f37f7d91-fcb3-4521-a517-6a72569f31c3",
   "metadata": {
    "tags": []
   },
   "outputs": [],
   "source": [
    "#all are probabilities after all"
   ]
  },
  {
   "cell_type": "code",
   "execution_count": 44,
   "id": "b0b44db4-d779-495d-b9cd-98e4cd655fe4",
   "metadata": {
    "tags": []
   },
   "outputs": [],
   "source": [
    "#Initializing the emission probabilities"
   ]
  },
  {
   "cell_type": "code",
   "execution_count": 45,
   "id": "8c761e08-5536-40ed-9576-e320bf4c7d6b",
   "metadata": {
    "tags": []
   },
   "outputs": [],
   "source": [
    "emission_matrix = [[0.8,0.1,0.1], [0.1,0.7,0.2], [0.1,0.2,0.7]]\n",
    "\n",
    "model.emissionprob_ = emission_matrix"
   ]
  },
  {
   "cell_type": "code",
   "execution_count": null,
   "id": "efc517c8-d50e-4dc9-b394-56b51267579c",
   "metadata": {},
   "outputs": [],
   "source": []
  },
  {
   "cell_type": "code",
   "execution_count": 46,
   "id": "c4e7b528-ce03-496c-acba-a6e2b952557e",
   "metadata": {
    "tags": []
   },
   "outputs": [],
   "source": [
    "#fitting the model to the observed data"
   ]
  },
  {
   "cell_type": "code",
   "execution_count": 59,
   "id": "6b31dc41-0748-4504-949d-efe9830a23c2",
   "metadata": {
    "tags": []
   },
   "outputs": [
    {
     "name": "stderr",
     "output_type": "stream",
     "text": [
      "Even though the 'transmat_' attribute is set, it will be overwritten during initialization because 'init_params' contains 't'\n"
     ]
    },
    {
     "data": {
      "text/html": [
       "<style>#sk-container-id-1 {color: black;}#sk-container-id-1 pre{padding: 0;}#sk-container-id-1 div.sk-toggleable {background-color: white;}#sk-container-id-1 label.sk-toggleable__label {cursor: pointer;display: block;width: 100%;margin-bottom: 0;padding: 0.3em;box-sizing: border-box;text-align: center;}#sk-container-id-1 label.sk-toggleable__label-arrow:before {content: \"▸\";float: left;margin-right: 0.25em;color: #696969;}#sk-container-id-1 label.sk-toggleable__label-arrow:hover:before {color: black;}#sk-container-id-1 div.sk-estimator:hover label.sk-toggleable__label-arrow:before {color: black;}#sk-container-id-1 div.sk-toggleable__content {max-height: 0;max-width: 0;overflow: hidden;text-align: left;background-color: #f0f8ff;}#sk-container-id-1 div.sk-toggleable__content pre {margin: 0.2em;color: black;border-radius: 0.25em;background-color: #f0f8ff;}#sk-container-id-1 input.sk-toggleable__control:checked~div.sk-toggleable__content {max-height: 200px;max-width: 100%;overflow: auto;}#sk-container-id-1 input.sk-toggleable__control:checked~label.sk-toggleable__label-arrow:before {content: \"▾\";}#sk-container-id-1 div.sk-estimator input.sk-toggleable__control:checked~label.sk-toggleable__label {background-color: #d4ebff;}#sk-container-id-1 div.sk-label input.sk-toggleable__control:checked~label.sk-toggleable__label {background-color: #d4ebff;}#sk-container-id-1 input.sk-hidden--visually {border: 0;clip: rect(1px 1px 1px 1px);clip: rect(1px, 1px, 1px, 1px);height: 1px;margin: -1px;overflow: hidden;padding: 0;position: absolute;width: 1px;}#sk-container-id-1 div.sk-estimator {font-family: monospace;background-color: #f0f8ff;border: 1px dotted black;border-radius: 0.25em;box-sizing: border-box;margin-bottom: 0.5em;}#sk-container-id-1 div.sk-estimator:hover {background-color: #d4ebff;}#sk-container-id-1 div.sk-parallel-item::after {content: \"\";width: 100%;border-bottom: 1px solid gray;flex-grow: 1;}#sk-container-id-1 div.sk-label:hover label.sk-toggleable__label {background-color: #d4ebff;}#sk-container-id-1 div.sk-serial::before {content: \"\";position: absolute;border-left: 1px solid gray;box-sizing: border-box;top: 0;bottom: 0;left: 50%;z-index: 0;}#sk-container-id-1 div.sk-serial {display: flex;flex-direction: column;align-items: center;background-color: white;padding-right: 0.2em;padding-left: 0.2em;position: relative;}#sk-container-id-1 div.sk-item {position: relative;z-index: 1;}#sk-container-id-1 div.sk-parallel {display: flex;align-items: stretch;justify-content: center;background-color: white;position: relative;}#sk-container-id-1 div.sk-item::before, #sk-container-id-1 div.sk-parallel-item::before {content: \"\";position: absolute;border-left: 1px solid gray;box-sizing: border-box;top: 0;bottom: 0;left: 50%;z-index: -1;}#sk-container-id-1 div.sk-parallel-item {display: flex;flex-direction: column;z-index: 1;position: relative;background-color: white;}#sk-container-id-1 div.sk-parallel-item:first-child::after {align-self: flex-end;width: 50%;}#sk-container-id-1 div.sk-parallel-item:last-child::after {align-self: flex-start;width: 50%;}#sk-container-id-1 div.sk-parallel-item:only-child::after {width: 0;}#sk-container-id-1 div.sk-dashed-wrapped {border: 1px dashed gray;margin: 0 0.4em 0.5em 0.4em;box-sizing: border-box;padding-bottom: 0.4em;background-color: white;}#sk-container-id-1 div.sk-label label {font-family: monospace;font-weight: bold;display: inline-block;line-height: 1.2em;}#sk-container-id-1 div.sk-label-container {text-align: center;}#sk-container-id-1 div.sk-container {/* jupyter's `normalize.less` sets `[hidden] { display: none; }` but bootstrap.min.css set `[hidden] { display: none !important; }` so we also need the `!important` here to be able to override the default hidden behavior on the sphinx rendered scikit-learn.org. See: https://github.com/scikit-learn/scikit-learn/issues/21755 */display: inline-block !important;position: relative;}#sk-container-id-1 div.sk-text-repr-fallback {display: none;}</style><div id=\"sk-container-id-1\" class=\"sk-top-container\"><div class=\"sk-text-repr-fallback\"><pre>MultinomialHMM(n_components=3, n_iter=100,\n",
       "               n_trials=array([   0,  205,  126, ...,  287,  411, 2956]),\n",
       "               random_state=RandomState(MT19937) at 0x18212841140)</pre><b>In a Jupyter environment, please rerun this cell to show the HTML representation or trust the notebook. <br />On GitHub, the HTML representation is unable to render, please try loading this page with nbviewer.org.</b></div><div class=\"sk-container\" hidden><div class=\"sk-item\"><div class=\"sk-estimator sk-toggleable\"><input class=\"sk-toggleable__control sk-hidden--visually\" id=\"sk-estimator-id-1\" type=\"checkbox\" checked><label for=\"sk-estimator-id-1\" class=\"sk-toggleable__label sk-toggleable__label-arrow\">MultinomialHMM</label><div class=\"sk-toggleable__content\"><pre>MultinomialHMM(n_components=3, n_iter=100,\n",
       "               n_trials=array([   0,  205,  126, ...,  287,  411, 2956]),\n",
       "               random_state=RandomState(MT19937) at 0x18212841140)</pre></div></div></div></div></div>"
      ],
      "text/plain": [
       "MultinomialHMM(n_components=3, n_iter=100,\n",
       "               n_trials=array([   0,  205,  126, ...,  287,  411, 2956]),\n",
       "               random_state=RandomState(MT19937) at 0x18212841140)"
      ]
     },
     "execution_count": 59,
     "metadata": {},
     "output_type": "execute_result"
    }
   ],
   "source": [
    "model.fit(observations)"
   ]
  },
  {
   "cell_type": "code",
   "execution_count": 62,
   "id": "a3f937ba-6fdf-4a59-ae96-f56dc7e2c6eb",
   "metadata": {
    "tags": []
   },
   "outputs": [],
   "source": [
    "predicted_states = model.predict(observations)"
   ]
  },
  {
   "cell_type": "code",
   "execution_count": 63,
   "id": "d8670f1b-efd1-451f-bb49-9477910aa8ae",
   "metadata": {
    "tags": []
   },
   "outputs": [
    {
     "name": "stdout",
     "output_type": "stream",
     "text": [
      "Predicted States (0: Exposed, 1: Infected, 2: Deceased):\n",
      "[1 2 0 ... 0 0 0]\n"
     ]
    }
   ],
   "source": [
    "print(\"Predicted States (0: Exposed, 1: Infected, 2: Deceased):\")\n",
    "print(predicted_states)"
   ]
  },
  {
   "cell_type": "code",
   "execution_count": 64,
   "id": "470ea6d5-a5a7-414f-b8d3-d30d72de2f7b",
   "metadata": {
    "tags": []
   },
   "outputs": [],
   "source": [
    "#Let's try some visualisations"
   ]
  },
  {
   "cell_type": "code",
   "execution_count": 92,
   "id": "c1d96315-9997-462e-924f-0ff66352bddd",
   "metadata": {
    "tags": []
   },
   "outputs": [],
   "source": [
    "import matplotlib.pyplot as plt\n",
    "import seaborn as sns"
   ]
  },
  {
   "cell_type": "code",
   "execution_count": 97,
   "id": "80225092-afc1-4b70-b697-8b831b9e056d",
   "metadata": {
    "tags": []
   },
   "outputs": [
    {
     "data": {
      "text/plain": [
       "<Axes: xlabel='total_population', ylabel='confirmed'>"
      ]
     },
     "execution_count": 97,
     "metadata": {},
     "output_type": "execute_result"
    },
    {
     "data": {
      "image/png": "[encoded data removed]",
      "text/plain": [
       "<Figure size 1000x1500 with 1 Axes>"
      ]
     },
     "metadata": {},
     "output_type": "display_data"
    }
   ],
   "source": [
    "plt.figure(figsize = (10,15))\n",
    "\n",
    "sns.scatterplot(x = 'total_population', y = 'confirmed', hue = 'last_update', data = df, palette = \"coolwarm\" )\n"
   ]
  },
  {
   "cell_type": "code",
   "execution_count": 75,
   "id": "7c02404d-f69e-4d5a-9db9-c68b9b23e5b7",
   "metadata": {
    "tags": []
   },
   "outputs": [
    {
     "data": {
      "text/html": [
       "<div>\n",
       "<style scoped>\n",
       "    .dataframe tbody tr th:only-of-type {\n",
       "        vertical-align: middle;\n",
       "    }\n",
       "\n",
       "    .dataframe tbody tr th {\n",
       "        vertical-align: top;\n",
       "    }\n",
       "\n",
       "    .dataframe thead th {\n",
       "        text-align: right;\n",
       "    }\n",
       "</style>\n",
       "<table border=\"1\" class=\"dataframe\">\n",
       "  <thead>\n",
       "    <tr style=\"text-align: right;\">\n",
       "      <th></th>\n",
       "      <th>last_update</th>\n",
       "      <th>total_population</th>\n",
       "      <th>confirmed</th>\n",
       "      <th>Cases_per_capita</th>\n",
       "    </tr>\n",
       "  </thead>\n",
       "  <tbody>\n",
       "    <tr>\n",
       "      <th>0</th>\n",
       "      <td>2020-08-07 22:34:20+00:00</td>\n",
       "      <td>NaN</td>\n",
       "      <td>0</td>\n",
       "      <td>NaN</td>\n",
       "    </tr>\n",
       "    <tr>\n",
       "      <th>1</th>\n",
       "      <td>2020-08-15 23:27:16+00:00</td>\n",
       "      <td>19819.0</td>\n",
       "      <td>205</td>\n",
       "      <td>0.010344</td>\n",
       "    </tr>\n",
       "    <tr>\n",
       "      <th>2</th>\n",
       "      <td>2020-08-15 23:27:16+00:00</td>\n",
       "      <td>13875.0</td>\n",
       "      <td>79</td>\n",
       "      <td>0.005694</td>\n",
       "    </tr>\n",
       "    <tr>\n",
       "      <th>3</th>\n",
       "      <td>2020-08-15 23:27:16+00:00</td>\n",
       "      <td>69084.0</td>\n",
       "      <td>572</td>\n",
       "      <td>0.008280</td>\n",
       "    </tr>\n",
       "    <tr>\n",
       "      <th>4</th>\n",
       "      <td>2020-08-15 23:27:16+00:00</td>\n",
       "      <td>11411.0</td>\n",
       "      <td>91</td>\n",
       "      <td>0.007975</td>\n",
       "    </tr>\n",
       "    <tr>\n",
       "      <th>...</th>\n",
       "      <td>...</td>\n",
       "      <td>...</td>\n",
       "      <td>...</td>\n",
       "      <td>...</td>\n",
       "    </tr>\n",
       "    <tr>\n",
       "      <th>3250</th>\n",
       "      <td>2020-08-15 23:27:16+00:00</td>\n",
       "      <td>24499.0</td>\n",
       "      <td>88</td>\n",
       "      <td>0.003592</td>\n",
       "    </tr>\n",
       "    <tr>\n",
       "      <th>3251</th>\n",
       "      <td>2020-08-15 23:27:16+00:00</td>\n",
       "      <td>17760.0</td>\n",
       "      <td>139</td>\n",
       "      <td>0.007827</td>\n",
       "    </tr>\n",
       "    <tr>\n",
       "      <th>3252</th>\n",
       "      <td>2020-08-15 23:27:16+00:00</td>\n",
       "      <td>53517.0</td>\n",
       "      <td>426</td>\n",
       "      <td>0.007960</td>\n",
       "    </tr>\n",
       "    <tr>\n",
       "      <th>3253</th>\n",
       "      <td>2020-08-15 23:27:16+00:00</td>\n",
       "      <td>4463.0</td>\n",
       "      <td>15</td>\n",
       "      <td>0.003361</td>\n",
       "    </tr>\n",
       "    <tr>\n",
       "      <th>3254</th>\n",
       "      <td>2020-08-15 23:27:16+00:00</td>\n",
       "      <td>4463.0</td>\n",
       "      <td>2971</td>\n",
       "      <td>0.665696</td>\n",
       "    </tr>\n",
       "  </tbody>\n",
       "</table>\n",
       "<p>3255 rows × 4 columns</p>\n",
       "</div>"
      ],
      "text/plain": [
       "                    last_update  total_population  confirmed  Cases_per_capita\n",
       "0     2020-08-07 22:34:20+00:00               NaN          0               NaN\n",
       "1     2020-08-15 23:27:16+00:00           19819.0        205          0.010344\n",
       "2     2020-08-15 23:27:16+00:00           13875.0         79          0.005694\n",
       "3     2020-08-15 23:27:16+00:00           69084.0        572          0.008280\n",
       "4     2020-08-15 23:27:16+00:00           11411.0         91          0.007975\n",
       "...                         ...               ...        ...               ...\n",
       "3250  2020-08-15 23:27:16+00:00           24499.0         88          0.003592\n",
       "3251  2020-08-15 23:27:16+00:00           17760.0        139          0.007827\n",
       "3252  2020-08-15 23:27:16+00:00           53517.0        426          0.007960\n",
       "3253  2020-08-15 23:27:16+00:00            4463.0         15          0.003361\n",
       "3254  2020-08-15 23:27:16+00:00            4463.0       2971          0.665696\n",
       "\n",
       "[3255 rows x 4 columns]"
      ]
     },
     "execution_count": 75,
     "metadata": {},
     "output_type": "execute_result"
    }
   ],
   "source": [
    "df"
   ]
  },
  {
   "cell_type": "code",
   "execution_count": null,
   "id": "87e8ee06-d662-474b-8864-d11c9ebd174d",
   "metadata": {},
   "outputs": [],
   "source": []
  }
 ],
 "metadata": {
  "kernelspec": {
   "display_name": "Python 3 (ipykernel)",
   "language": "python",
   "name": "python3"
  },
  "language_info": {
   "codemirror_mode": {
    "name": "ipython",
    "version": 3
   },
   "file_extension": ".py",
   "mimetype": "text/x-python",
   "name": "python",
   "nbconvert_exporter": "python",
   "pygments_lexer": "ipython3",
   "version": "3.11.5"
  }
 },
 "nbformat": 4,
 "nbformat_minor": 5
}
